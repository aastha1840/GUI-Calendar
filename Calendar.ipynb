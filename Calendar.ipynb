{
 "cells": [
  {
   "cell_type": "code",
   "execution_count": 1,
   "id": "4395019d",
   "metadata": {},
   "outputs": [],
   "source": [
    "from tkinter import * #help us to create GUI Part of our Calendar\n",
    "import calendar"
   ]
  },
  {
   "cell_type": "code",
   "execution_count": 2,
   "id": "5d4216d9",
   "metadata": {},
   "outputs": [],
   "source": [
    "def month_calendar():\n",
    "    month = int(monthspinBox.get()) # to get the number which will act as month from \n",
    "                                    #the month spinbox\n",
    "    year  = int(yearspinBox.get())\n",
    "    # We would have get the value in the form of string, so converted to integer\n",
    "    data  = calendar.month(year,month)\n",
    "    \n",
    "    # We should get another data after deleting the first data already present there\n",
    "    textfield.delete(0.0,END)\n",
    "    \n",
    "    #Insertion of data in Go Button\n",
    "    textfield.insert(INSERT,data)\n",
    "    \n",
    "    "
   ]
  },
  {
   "cell_type": "code",
   "execution_count": 3,
   "id": "c270d1ee",
   "metadata": {},
   "outputs": [],
   "source": [
    "#We can make a window with the help of Tk() class.\n",
    "#Making object to access the class\n",
    "obj=Tk()\n",
    "# We will not be able to see the window. \n"
   ]
  },
  {
   "cell_type": "code",
   "execution_count": 4,
   "id": "e65c2b9b",
   "metadata": {},
   "outputs": [
    {
     "data": {
      "text/plain": [
       "''"
      ]
     },
     "execution_count": 4,
     "metadata": {},
     "output_type": "execute_result"
    }
   ],
   "source": [
    "# Let's make the calendar non-resizable\n",
    "obj.resizable(0,0)"
   ]
  },
  {
   "cell_type": "code",
   "execution_count": 5,
   "id": "660a7c25",
   "metadata": {},
   "outputs": [],
   "source": [
    "#Bg color\n",
    "obj.config(bg='dark cyan')"
   ]
  },
  {
   "cell_type": "code",
   "execution_count": 6,
   "id": "f079c7ba",
   "metadata": {},
   "outputs": [
    {
     "data": {
      "text/plain": [
       "''"
      ]
     },
     "execution_count": 6,
     "metadata": {},
     "output_type": "execute_result"
    }
   ],
   "source": [
    "obj.title(\"Calendar\")"
   ]
  },
  {
   "cell_type": "code",
   "execution_count": 7,
   "id": "b23e7ebe",
   "metadata": {},
   "outputs": [
    {
     "data": {
      "text/plain": [
       "''"
      ]
     },
     "execution_count": 7,
     "metadata": {},
     "output_type": "execute_result"
    }
   ],
   "source": [
    "obj.geometry(\"220x200\")"
   ]
  },
  {
   "cell_type": "code",
   "execution_count": 8,
   "id": "e3817239",
   "metadata": {},
   "outputs": [],
   "source": [
    "#creating MonthLabel and using a label() class\n",
    "#This label will be inside the obj window\n",
    "monthLabel = Label(obj , text = 'Month', font = ('Andalus', 15 ,'bold'), \n",
    "                   bg ='dark cyan',fg='white') \n",
    "monthLabel.grid() #(row,column)\n",
    "yearLabel = Label(obj , text = 'Year', font = ('Andalus', 15 ,'bold'), \n",
    "                  bg ='dark cyan',fg='white') \n",
    "yearLabel.grid(row=0,column=4)"
   ]
  },
  {
   "cell_type": "code",
   "execution_count": 9,
   "id": "aca37f74",
   "metadata": {},
   "outputs": [],
   "source": [
    "monthspinBox=Spinbox(obj, from_=1, to=12, width=8, \n",
    "                     font=('Andalus', 10, 'bold'))\n",
    "monthspinBox.grid(row=1,column=0, padx=10)\n",
    "yearspinBox=Spinbox(obj, from_=1996, to=2500, width=8, \n",
    "                    font=('Andalus', 10, 'bold'))\n",
    "yearspinBox.grid(row=1,column=4, padx=10)"
   ]
  },
  {
   "cell_type": "code",
   "execution_count": 10,
   "id": "bb74120e",
   "metadata": {},
   "outputs": [],
   "source": [
    "goButton=Button(obj , text = 'Go', font = ('Andalus', 10 ,'bold'), \n",
    "                command= month_calendar)             \n",
    "                #this is the function that will run if we press Go Button\n",
    "goButton.grid(row=1,column=8)"
   ]
  },
  {
   "cell_type": "code",
   "execution_count": 11,
   "id": "ed3a9549",
   "metadata": {},
   "outputs": [],
   "source": [
    "textfield=Text(obj, width=24, height=8,fg='purple')\n",
    "textfield.grid(row=3,column=0, columnspan=15)"
   ]
  },
  {
   "cell_type": "code",
   "execution_count": null,
   "id": "0f610482",
   "metadata": {},
   "outputs": [],
   "source": [
    "#To keep the window on-hold/loop \n",
    "#so that it is visible to us, we have to use the method of the Tk() class\n",
    "obj.mainloop()"
   ]
  }
 ],
 "metadata": {
  "kernelspec": {
   "display_name": "Python 3 (ipykernel)",
   "language": "python",
   "name": "python3"
  },
  "language_info": {
   "codemirror_mode": {
    "name": "ipython",
    "version": 3
   },
   "file_extension": ".py",
   "mimetype": "text/x-python",
   "name": "python",
   "nbconvert_exporter": "python",
   "pygments_lexer": "ipython3",
   "version": "3.9.12"
  }
 },
 "nbformat": 4,
 "nbformat_minor": 5
}
